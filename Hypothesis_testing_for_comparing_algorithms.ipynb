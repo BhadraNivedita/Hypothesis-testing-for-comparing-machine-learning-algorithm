{
 "cells": [
  {
   "cell_type": "markdown",
   "id": "liked-scanner",
   "metadata": {},
   "source": [
    "In this Jupyter notebook we have performed a hypothesis testing on a synthetic dataset to check if the difference between two machine learning algorithm Logistic Regression and Linear Discriminant Analysis is statistically sifnificant or not. We will use the library mlxtend. "
   ]
  },
  {
   "cell_type": "code",
   "execution_count": 1,
   "id": "political-scheme",
   "metadata": {},
   "outputs": [],
   "source": [
    "# compare logistic regression and lda for binary classification\n",
    "from numpy import mean\n",
    "from numpy import std\n",
    "from sklearn.datasets import make_classification\n",
    "from sklearn.model_selection import cross_val_score\n",
    "from sklearn.model_selection import RepeatedStratifiedKFold\n",
    "from sklearn.linear_model import LogisticRegression\n",
    "from sklearn.discriminant_analysis import LinearDiscriminantAnalysis\n",
    "from matplotlib import pyplot\n",
    "\n"
   ]
  },
  {
   "cell_type": "markdown",
   "id": "boolean-undergraduate",
   "metadata": {},
   "source": [
    "# Cross validation score "
   ]
  },
  {
   "cell_type": "code",
   "execution_count": 2,
   "id": "framed-halloween",
   "metadata": {},
   "outputs": [
    {
     "name": "stdout",
     "output_type": "stream",
     "text": [
      "LogisticRegression Mean Accuracy: 0.892 (0.036)\n",
      "LinearDiscriminantAnalysis Mean Accuracy: 0.893 (0.033)\n"
     ]
    },
    {
     "data": {
      "image/png": "[encoded data removed]",
      "text/plain": [
       "<Figure size 432x288 with 1 Axes>"
      ]
     },
     "metadata": {
      "needs_background": "light"
     },
     "output_type": "display_data"
    }
   ],
   "source": [
    "# define dataset\n",
    "X, y = make_classification(n_samples=1000, n_features=10, n_informative=10, n_redundant=0, random_state=1)\n",
    "# evaluate model 1\n",
    "model1 = LogisticRegression()\n",
    "cv1 = RepeatedStratifiedKFold(n_splits=10, n_repeats=3, random_state=1)\n",
    "scores1 = cross_val_score(model1, X, y, scoring='accuracy', cv=cv1, n_jobs=-1)\n",
    "print('LogisticRegression Mean Accuracy: %.3f (%.3f)' % (mean(scores1), std(scores1)))\n",
    "# evaluate model 2\n",
    "model2 = LinearDiscriminantAnalysis()\n",
    "cv2 = RepeatedStratifiedKFold(n_splits=10, n_repeats=3, random_state=1)\n",
    "scores2 = cross_val_score(model2, X, y, scoring='accuracy', cv=cv2, n_jobs=-1)\n",
    "print('LinearDiscriminantAnalysis Mean Accuracy: %.3f (%.3f)' % (mean(scores2), std(scores2)))\n",
    "# plot the results\n",
    "pyplot.boxplot([scores1, scores2], labels=['LR', 'LDA'], showmeans=True)\n",
    "pyplot.show()"
   ]
  },
  {
   "cell_type": "markdown",
   "id": "packed-australia",
   "metadata": {},
   "source": [
    "A box and whisker plot to show the distribution of accuracy scores from cross validation.\n",
    "\n"
   ]
  },
  {
   "cell_type": "markdown",
   "id": "understood-wings",
   "metadata": {},
   "source": [
    "# 5×2 Procedure With MLxtend"
   ]
  },
  {
   "cell_type": "code",
   "execution_count": 3,
   "id": "general-thirty",
   "metadata": {},
   "outputs": [],
   "source": [
    "# use 5x2 statistical hypothesis testing procedure to compare two machine learning algorithms\n",
    "from numpy import mean\n",
    "from numpy import std\n",
    "from sklearn.datasets import make_classification\n",
    "from sklearn.model_selection import cross_val_score\n",
    "from sklearn.model_selection import RepeatedStratifiedKFold\n",
    "from sklearn.linear_model import LogisticRegression\n",
    "from sklearn.discriminant_analysis import LinearDiscriminantAnalysis\n",
    "from mlxtend.evaluate import paired_ttest_5x2cv\n"
   ]
  },
  {
   "cell_type": "markdown",
   "id": "running-marks",
   "metadata": {},
   "source": [
    "A hypothesis test to see if the observed results in the above Box plot are  are statistically significant or it's just a fluke.\n",
    "\n"
   ]
  },
  {
   "cell_type": "code",
   "execution_count": 4,
   "id": "greek-irrigation",
   "metadata": {},
   "outputs": [
    {
     "name": "stdout",
     "output_type": "stream",
     "text": [
      "Mean Accuracy from Logistic Regression is: 0.892 (0.036)\n",
      "Mean Accuracy from LDA is : 0.893 (0.033)\n",
      "P-value: 0.328, t-Statistic: 1.085\n",
      "Algorithms probably have the same performance\n"
     ]
    }
   ],
   "source": [
    "# define dataset\n",
    "X, y = make_classification(n_samples=1000, n_features=10, n_informative=10, n_redundant=0, random_state=1)\n",
    "# evaluate model 1\n",
    "model1 = LogisticRegression()\n",
    "cv1 = RepeatedStratifiedKFold(n_splits=10, n_repeats=3, random_state=1)\n",
    "scores1 = cross_val_score(model1, X, y, scoring='accuracy', cv=cv1, n_jobs=-1)\n",
    "print('Mean Accuracy from Logistic Regression is: %.3f (%.3f)' % (mean(scores1), std(scores1)))\n",
    "# evaluate model 2\n",
    "model2 = LinearDiscriminantAnalysis()\n",
    "cv2 = RepeatedStratifiedKFold(n_splits=10, n_repeats=3, random_state=1)\n",
    "scores2 = cross_val_score(model2, X, y, scoring='accuracy', cv=cv2, n_jobs=-1)\n",
    "print('Mean Accuracy from LDA is : %.3f (%.3f)' % (mean(scores2), std(scores2)))\n",
    "# check if difference between algorithms is real\n",
    "t, p = paired_ttest_5x2cv(estimator1=model1, estimator2=model2, X=X, y=y, scoring='accuracy', random_seed=1)\n",
    "# summarize\n",
    "print('P-value: %.3f, t-Statistic: %.3f' % (p, t))\n",
    "# interpret the result\n",
    "if p <= 0.05:\n",
    "\tprint('Difference between mean performance is probably real')\n",
    "else:\n",
    "\tprint('Algorithms probably have the same performance')"
   ]
  },
  {
   "cell_type": "code",
   "execution_count": 5,
   "id": "virgin-balance",
   "metadata": {},
   "outputs": [
    {
     "name": "stdout",
     "output_type": "stream",
     "text": [
      "Mean Accuracy from Logistic Regression is : 0.894 (0.012)\n",
      "Mean Accuracy from LDA is: 0.890 (0.013)\n",
      "P-value: 0.328, t-Statistic: 1.085\n",
      "Algorithms probably have the same performance\n"
     ]
    }
   ],
   "source": [
    "# use 5x2 statistical hypothesis testing procedure to compare two machine learning algorithms\n",
    "from numpy import mean\n",
    "from numpy import std\n",
    "from sklearn.datasets import make_classification\n",
    "from sklearn.model_selection import cross_val_score\n",
    "from sklearn.model_selection import RepeatedStratifiedKFold\n",
    "from sklearn.linear_model import LogisticRegression\n",
    "from sklearn.discriminant_analysis import LinearDiscriminantAnalysis\n",
    "from mlxtend.evaluate import paired_ttest_5x2cv\n",
    "# define dataset\n",
    "X, y = make_classification(n_samples=1000, n_features=10, n_informative=10, n_redundant=0, random_state=1)\n",
    "# evaluate model 1\n",
    "model1 = LogisticRegression()\n",
    "cv1 = RepeatedStratifiedKFold(n_splits=2, n_repeats=5, random_state=1)\n",
    "scores1 = cross_val_score(model1, X, y, scoring='accuracy', cv=cv1, n_jobs=-1)\n",
    "print('Mean Accuracy from Logistic Regression is : %.3f (%.3f)' % (mean(scores1), std(scores1)))\n",
    "# evaluate model 2\n",
    "model2 = LinearDiscriminantAnalysis()\n",
    "cv2 = RepeatedStratifiedKFold(n_splits=2, n_repeats=5, random_state=1)\n",
    "scores2 = cross_val_score(model2, X, y, scoring='accuracy', cv=cv2, n_jobs=-1)\n",
    "print('Mean Accuracy from LDA is: %.3f (%.3f)' % (mean(scores2), std(scores2)))\n",
    "# check if difference between algorithms is real\n",
    "t, p = paired_ttest_5x2cv(estimator1=model1, estimator2=model2, X=X, y=y, scoring='accuracy', random_seed=1)\n",
    "# summarize\n",
    "print('P-value: %.3f, t-Statistic: %.3f' % (p, t))\n",
    "# interpret the result\n",
    "if p <= 0.05:\n",
    "\tprint('Difference between mean performance is probably real')\n",
    "else:\n",
    "\tprint('Algorithms probably have the same performance')"
   ]
  }
 ],
 "metadata": {
  "kernelspec": {
   "display_name": "Python 3",
   "language": "python",
   "name": "python3"
  },
  "language_info": {
   "codemirror_mode": {
    "name": "ipython",
    "version": 3
   },
   "file_extension": ".py",
   "mimetype": "text/x-python",
   "name": "python",
   "nbconvert_exporter": "python",
   "pygments_lexer": "ipython3",
   "version": "3.7.6"
  }
 },
 "nbformat": 4,
 "nbformat_minor": 5
}
